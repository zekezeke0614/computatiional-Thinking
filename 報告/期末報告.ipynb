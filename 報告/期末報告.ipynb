{
  "nbformat": 4,
  "nbformat_minor": 0,
  "metadata": {
    "colab": {
      "name": "期末報告",
      "provenance": [],
      "collapsed_sections": []
    },
    "kernelspec": {
      "name": "python3",
      "display_name": "Python 3"
    }
  },
  "cells": [
    {
      "cell_type": "markdown",
      "metadata": {
        "id": "vciLYv5P3sH9"
      },
      "source": [
        "成員: A109260035 何原興\r\n",
        "   A109260069 邱秉承\r\n",
        "   A109260083 邱俊彥\r\n",
        "   A109260015 周子豪"
      ]
    },
    {
      "cell_type": "code",
      "metadata": {
        "colab": {
          "base_uri": "https://localhost:8080/"
        },
        "id": "76AMJAKzosgz",
        "outputId": "e2e25e08-19df-43fa-df53-87334bd42ca1"
      },
      "source": [
        "n = 1\r\n",
        "while n<=10:\r\n",
        "  print(\"哈囉!\")\r\n",
        "  n = n+1\r\n",
        "print(\"哈囉我叫興興\")\r\n",
        "name = input(\"你叫什麼名字呢? \")\r\n",
        "print(\"你好\" , name , \"很高興認識你\")"
      ],
      "execution_count": 27,
      "outputs": [
        {
          "output_type": "stream",
          "text": [
            "哈囉!\n",
            "哈囉!\n",
            "哈囉!\n",
            "哈囉!\n",
            "哈囉!\n",
            "哈囉!\n",
            "哈囉!\n",
            "哈囉!\n",
            "哈囉!\n",
            "哈囉!\n",
            "哈囉我叫興興\n",
            "你叫什麼名字呢? 豪豪\n",
            "你好 豪豪 很高興認識你\n"
          ],
          "name": "stdout"
        }
      ]
    },
    {
      "cell_type": "code",
      "metadata": {
        "colab": {
          "base_uri": "https://localhost:8080/"
        },
        "id": "vkKqNc7Gu20B",
        "outputId": "6df5299f-f72f-40be-daa4-4f8a3ffad784"
      },
      "source": [
        "place = input(\"你來自哪裡?\")\r\n",
        "print(\"興興聽說\", place , \"是一個很美的地方\")\r\n",
        "ans = input(\"yes或no \")\r\n",
        "if ans == \"yes\":\r\n",
        "  print(\"興興沒記錯吧!\")\r\n",
        "else:\r\n",
        "  print(\"興興記錯了嗎?\")\r\n",
        "print(\"興興是從桃園來的喔!\")\r\n",
        "print(\"很酷吧!\")"
      ],
      "execution_count": null,
      "outputs": [
        {
          "output_type": "stream",
          "text": [
            "你來自哪裡?永和\n",
            "興興聽說 永和 是一個很美的地方\n",
            "yes或no yes\n",
            "興興沒記錯吧!\n",
            "興興是從桃園來的喔!\n",
            "很酷吧!\n"
          ],
          "name": "stdout"
        }
      ]
    },
    {
      "cell_type": "code",
      "metadata": {
        "colab": {
          "base_uri": "https://localhost:8080/"
        },
        "id": "IymIN7sUvd2_",
        "outputId": "51edb03e-8cb1-42d0-d3f6-fcf80b652d1c"
      },
      "source": [
        "years = int(input(\"你今年幾歲?\"))\r\n",
        "if years>18:\r\n",
        "  print(\"原來你比興興大喔 , 失敬失敬!\")\r\n",
        "elif years == 18:\r\n",
        "  print(\"興興跟你一樣是18呢!\")\r\n",
        "else:\r\n",
        "  print(\"比興興小呢 , 興興會好好照顧後輩的\")"
      ],
      "execution_count": 24,
      "outputs": [
        {
          "output_type": "stream",
          "text": [
            "你今年幾歲?19\n",
            "原來你比興興大喔 , 失敬失敬!\n"
          ],
          "name": "stdout"
        }
      ]
    },
    {
      "cell_type": "code",
      "metadata": {
        "id": "GShEAPbR4Cm6",
        "colab": {
          "base_uri": "https://localhost:8080/"
        },
        "outputId": "8584014a-e5dd-4762-b2f4-73ffe83e9bfc"
      },
      "source": [
        "club = int(input(\"你有參加過幾個社團呢?\"))\r\n",
        "if club<1:\r\n",
        "  print(\"要多多增加自己的社團經驗喔!\")\r\n",
        "elif club == 1:\r\n",
        "  print(\"跟興興一樣呢!\")\r\n",
        "  input(\"那是哪一個社團呢?\")\r\n",
        "  print(\"哇!興興下次去找你玩\")\r\n",
        "else:\r\n",
        "  print(\"哇!好棒喔!興興只有參加過系籃\")"
      ],
      "execution_count": 28,
      "outputs": [
        {
          "output_type": "stream",
          "text": [
            "你有參加過幾個社團呢?1\n",
            "跟興興一樣呢!\n",
            "那是哪一個社團呢?系排\n",
            "哇!興興下次去找你玩\n"
          ],
          "name": "stdout"
        }
      ]
    }
  ]
}