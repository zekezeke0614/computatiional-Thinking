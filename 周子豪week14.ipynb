{
  "nbformat": 4,
  "nbformat_minor": 0,
  "metadata": {
    "colab": {
      "name": "周子豪week14.ipynb",
      "provenance": [],
      "authorship_tag": "ABX9TyPSYZjCQzfM1njg9DqlzNUw",
      "include_colab_link": true
    },
    "kernelspec": {
      "name": "python3",
      "display_name": "Python 3"
    }
  },
  "cells": [
    {
      "cell_type": "markdown",
      "metadata": {
        "id": "view-in-github",
        "colab_type": "text"
      },
      "source": [
        "<a href=\"https://colab.research.google.com/github/zekezeke0614/computatiional-Thinking/blob/master/%E5%91%A8%E5%AD%90%E8%B1%AAweek14.ipynb\" target=\"_parent\"><img src=\"https://colab.research.google.com/assets/colab-badge.svg\" alt=\"Open In Colab\"/></a>"
      ]
    },
    {
      "cell_type": "code",
      "metadata": {
        "colab": {
          "base_uri": "https://localhost:8080/"
        },
        "id": "Zk6iSWmn8qN-",
        "outputId": "0233dcef-5798-43fb-fd15-eec4dab757e3"
      },
      "source": [
        "Sheet = [\"milk\" , \"egg\" , \"coffee beans\"]\r\n",
        "for index in [0 , 1 , 2]:\r\n",
        "  print(index, Sheet[index])"
      ],
      "execution_count": 3,
      "outputs": [
        {
          "output_type": "stream",
          "text": [
            "0 milk\n",
            "1 egg\n",
            "2 coffee beans\n"
          ],
          "name": "stdout"
        }
      ]
    },
    {
      "cell_type": "code",
      "metadata": {
        "colab": {
          "base_uri": "https://localhost:8080/"
        },
        "id": "sAwMhKMv9U-2",
        "outputId": "82c315c7-afb9-48df-b58a-2d0b022017e5"
      },
      "source": [
        "People = [\"Jack\" , \"Vicky\" , \"Gordon\" , \"Darren\" , \"Jenny\" , \"Cindy\"]\r\n",
        "Desserts = [\"cake\" , \"chocolate\" , \"milkshake\" , \"candy\" , \"cookie\" , \"pie\"]\r\n",
        "for index in range(len(People)):\r\n",
        "  Name = People[index]\r\n",
        "  Dessert = Desserts[index]\r\n",
        "  print(f\"Hi! My name is {Name}. My favorite dessert is {Dessert}.\")"
      ],
      "execution_count": 6,
      "outputs": [
        {
          "output_type": "stream",
          "text": [
            "Hi! My name is Jack. My favorite dessert is cake.\n",
            "Hi! My name is Vicky. My favorite dessert is chocolate.\n",
            "Hi! My name is Gordon. My favorite dessert is milkshake.\n",
            "Hi! My name is Darren. My favorite dessert is candy.\n",
            "Hi! My name is Jenny. My favorite dessert is cookie.\n",
            "Hi! My name is Cindy. My favorite dessert is pie.\n"
          ],
          "name": "stdout"
        }
      ]
    },
    {
      "cell_type": "code",
      "metadata": {
        "colab": {
          "base_uri": "https://localhost:8080/"
        },
        "id": "RRZlqLgt-_Js",
        "outputId": "e0e30c81-d266-40f9-b1c6-3a6562b63aed"
      },
      "source": [
        "for i in range(1 , 10 , 1):\r\n",
        "  for j in range(1 , 10 , 1):\r\n",
        "    print(i , \"*\" , j , \"=\" , i*j , \"\\t\" , sep=\"\" , end=\"\")\r\n",
        "    print()"
      ],
      "execution_count": 10,
      "outputs": [
        {
          "output_type": "stream",
          "text": [
            "1*1=1\t\n",
            "1*2=2\t\n",
            "1*3=3\t\n",
            "1*4=4\t\n",
            "1*5=5\t\n",
            "1*6=6\t\n",
            "1*7=7\t\n",
            "1*8=8\t\n",
            "1*9=9\t\n",
            "2*1=2\t\n",
            "2*2=4\t\n",
            "2*3=6\t\n",
            "2*4=8\t\n",
            "2*5=10\t\n",
            "2*6=12\t\n",
            "2*7=14\t\n",
            "2*8=16\t\n",
            "2*9=18\t\n",
            "3*1=3\t\n",
            "3*2=6\t\n",
            "3*3=9\t\n",
            "3*4=12\t\n",
            "3*5=15\t\n",
            "3*6=18\t\n",
            "3*7=21\t\n",
            "3*8=24\t\n",
            "3*9=27\t\n",
            "4*1=4\t\n",
            "4*2=8\t\n",
            "4*3=12\t\n",
            "4*4=16\t\n",
            "4*5=20\t\n",
            "4*6=24\t\n",
            "4*7=28\t\n",
            "4*8=32\t\n",
            "4*9=36\t\n",
            "5*1=5\t\n",
            "5*2=10\t\n",
            "5*3=15\t\n",
            "5*4=20\t\n",
            "5*5=25\t\n",
            "5*6=30\t\n",
            "5*7=35\t\n",
            "5*8=40\t\n",
            "5*9=45\t\n",
            "6*1=6\t\n",
            "6*2=12\t\n",
            "6*3=18\t\n",
            "6*4=24\t\n",
            "6*5=30\t\n",
            "6*6=36\t\n",
            "6*7=42\t\n",
            "6*8=48\t\n",
            "6*9=54\t\n",
            "7*1=7\t\n",
            "7*2=14\t\n",
            "7*3=21\t\n",
            "7*4=28\t\n",
            "7*5=35\t\n",
            "7*6=42\t\n",
            "7*7=49\t\n",
            "7*8=56\t\n",
            "7*9=63\t\n",
            "8*1=8\t\n",
            "8*2=16\t\n",
            "8*3=24\t\n",
            "8*4=32\t\n",
            "8*5=40\t\n",
            "8*6=48\t\n",
            "8*7=56\t\n",
            "8*8=64\t\n",
            "8*9=72\t\n",
            "9*1=9\t\n",
            "9*2=18\t\n",
            "9*3=27\t\n",
            "9*4=36\t\n",
            "9*5=45\t\n",
            "9*6=54\t\n",
            "9*7=63\t\n",
            "9*8=72\t\n",
            "9*9=81\t\n"
          ],
          "name": "stdout"
        }
      ]
    }
  ]
}