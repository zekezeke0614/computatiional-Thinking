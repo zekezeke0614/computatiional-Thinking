{
  "nbformat": 4,
  "nbformat_minor": 0,
  "metadata": {
    "colab": {
      "name": "周子豪week12-3",
      "provenance": [],
      "collapsed_sections": [],
      "authorship_tag": "ABX9TyNDYr5wh6sN15/d1C2npi0a",
      "include_colab_link": true
    },
    "kernelspec": {
      "name": "python3",
      "display_name": "Python 3"
    }
  },
  "cells": [
    {
      "cell_type": "markdown",
      "metadata": {
        "id": "view-in-github",
        "colab_type": "text"
      },
      "source": [
        "<a href=\"https://colab.research.google.com/github/zekezeke0614/computatiional-Thinking/blob/master/%E5%91%A8%E5%AD%90%E8%B1%AAweek12-3.ipynb\" target=\"_parent\"><img src=\"https://colab.research.google.com/assets/colab-badge.svg\" alt=\"Open In Colab\"/></a>"
      ]
    },
    {
      "cell_type": "code",
      "metadata": {
        "colab": {
          "base_uri": "https://localhost:8080/"
        },
        "id": "Unp1jvCbqbyl",
        "outputId": "db877212-1000-4202-b1a3-ebcf21c65f96"
      },
      "source": [
        "[0 , 1 , 2 , 3 , 4 , 5 , 6 , 7 , 8 , 9]\n",
        "a = range(0 , 10 , 1)\n",
        "print(a)\n",
        "print(a[0] , a[1] , a[2] , a[3] , a[4] , a[5] , a[6] , a[7] , a[8] , a[9])\n",
        "[0 , 2 , 4 , 6 , 8]\n",
        "b = range(0 , 20 , 2)\n",
        "print(b)\n",
        "print(b[0] , b[1] , b[2] , b[3] , b[4])\n",
        "[5 , 7 , 9]\n",
        "c = range(5 , 22 , 2)\n",
        "print(c)\n",
        "print(c[0] , c[1] , c[2])\n",
        "[0 , -1 , -2 , -3 , -4 , -5 , -6 , -7 , -8 , -9]\n",
        "d = range(0 , -10 , -1)\n",
        "print(d)\n",
        "print(d[0], d[1] , d[2] , d[3] , d[4] , d[5] , d[6] , d[7] , d[8]  , d[9])\n",
        "Project_title = \"尚未決定\"\n",
        "print(Project_title)\n",
        "Load_list = \"尚未分配\"\n",
        "print(Load_list)\n",
        "Name_list = [\"周子豪\" , \"王耀霆\" , \"邱秉承\" , \"邱俊彥\" , \"吳家俊\"]\n",
        "print(Name_list)\n",
        "Duty_list = \"尚未分配\" \n",
        "print(Duty_list)\n",
        "Number_list = [\"A109260015\" , \"A109260059\" , \"A109260069\" , \"A109260083\" , \"A109260085\"]\n",
        "print(Number_list)"
      ],
      "execution_count": 5,
      "outputs": [
        {
          "output_type": "stream",
          "text": [
            "range(0, 10)\n",
            "0 1 2 3 4 5 6 7 8 9\n",
            "range(0, 20, 2)\n",
            "0 2 4 6 8\n",
            "range(5, 22, 2)\n",
            "5 7 9\n",
            "range(0, -10, -1)\n",
            "0 -1 -2 -3 -4 -5 -6 -7 -8 -9\n",
            "尚未決定\n",
            "尚未分配\n",
            "['周子豪', '王耀霆', '邱秉承', '邱俊彥', '吳家俊']\n",
            "尚未分配\n",
            "['A109260015', 'A109260059', 'A109260069', 'A109260083', 'A109260085']\n"
          ],
          "name": "stdout"
        }
      ]
    }
  ]
}