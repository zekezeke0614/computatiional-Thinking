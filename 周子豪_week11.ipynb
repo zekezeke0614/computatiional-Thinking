{
  "nbformat": 4,
  "nbformat_minor": 0,
  "metadata": {
    "colab": {
      "name": "周子豪-week11.ipynb",
      "provenance": [],
      "authorship_tag": "ABX9TyNRNhaNMZkgVgAb932LVWK/",
      "include_colab_link": true
    },
    "kernelspec": {
      "name": "python3",
      "display_name": "Python 3"
    }
  },
  "cells": [
    {
      "cell_type": "markdown",
      "metadata": {
        "id": "view-in-github",
        "colab_type": "text"
      },
      "source": [
        "<a href=\"https://colab.research.google.com/github/zekezeke0614/computatiional-Thinking/blob/master/%E5%91%A8%E5%AD%90%E8%B1%AA_week11.ipynb\" target=\"_parent\"><img src=\"https://colab.research.google.com/assets/colab-badge.svg\" alt=\"Open In Colab\"/></a>"
      ]
    },
    {
      "cell_type": "markdown",
      "metadata": {
        "id": "BiPpH53zaWuf"
      },
      "source": [
        "分組"
      ]
    },
    {
      "cell_type": "code",
      "metadata": {
        "colab": {
          "base_uri": "https://localhost:8080/"
        },
        "id": "i7V7JYuXabgP",
        "outputId": "1c834669-1f0d-48f1-86c6-19f76743a008"
      },
      "source": [
        "# 商數餘數\n",
        "## Input\n",
        "seat = int(input(\"enter a seat number\"))\n",
        "## Process\n",
        "group = (seat-1) // 5 + 1\n",
        "##Output\n",
        "print(\"group is\", group)"
      ],
      "execution_count": 2,
      "outputs": [
        {
          "output_type": "stream",
          "text": [
            "enter a seat number9\n",
            "group is 2\n"
          ],
          "name": "stdout"
        }
      ]
    },
    {
      "cell_type": "code",
      "metadata": {
        "colab": {
          "base_uri": "https://localhost:8080/"
        },
        "id": "AUlSO_sZcz68",
        "outputId": "dd6e7e22-a5fe-4365-ab34-828f47b772bb"
      },
      "source": [
        "# 四捨五入 無條件進位\n",
        "import math\n",
        "## Input\n",
        "seat = int(input(\"enter a seat number\"))\n",
        "\n",
        "## Process\n",
        "group = math.ceil(seat/5)\n",
        "\n",
        "## Output\n",
        "print(\"group is,\" ,group)"
      ],
      "execution_count": 6,
      "outputs": [
        {
          "output_type": "stream",
          "text": [
            "enter a seat number9\n",
            "group is, 2\n"
          ],
          "name": "stdout"
        }
      ]
    },
    {
      "cell_type": "code",
      "metadata": {
        "colab": {
          "base_uri": "https://localhost:8080/"
        },
        "id": "Qw7Wc853eEUu",
        "outputId": "61b209e2-6128-4ff9-8e77-c23ecfceb6aa"
      },
      "source": [
        "number = int(input(\"enter a number\"))\n",
        "if number%5 == 0:\n",
        "  print(\"group is\", number//5)\n",
        "else:\n",
        "  print(\"group is\", number//5 + 1)"
      ],
      "execution_count": 7,
      "outputs": [
        {
          "output_type": "stream",
          "text": [
            "enter a number9\n",
            "group is 2\n"
          ],
          "name": "stdout"
        }
      ]
    }
  ]
}