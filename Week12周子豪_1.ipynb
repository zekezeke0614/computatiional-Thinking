{
  "nbformat": 4,
  "nbformat_minor": 0,
  "metadata": {
    "colab": {
      "name": "Week12周子豪-1.ipynb",
      "provenance": [],
      "authorship_tag": "ABX9TyOnTix3klfvN/ujWsgBhs9f",
      "include_colab_link": true
    },
    "kernelspec": {
      "name": "python3",
      "display_name": "Python 3"
    }
  },
  "cells": [
    {
      "cell_type": "markdown",
      "metadata": {
        "id": "view-in-github",
        "colab_type": "text"
      },
      "source": [
        "<a href=\"https://colab.research.google.com/github/zekezeke0614/computatiional-Thinking/blob/master/Week12%E5%91%A8%E5%AD%90%E8%B1%AA_1.ipynb\" target=\"_parent\"><img src=\"https://colab.research.google.com/assets/colab-badge.svg\" alt=\"Open In Colab\"/></a>"
      ]
    },
    {
      "cell_type": "code",
      "metadata": {
        "colab": {
          "base_uri": "https://localhost:8080/"
        },
        "id": "ZqF6lXmWpM46",
        "outputId": "c8fe8cc9-64a0-4f13-f899-6f6f57c339fc"
      },
      "source": [
        "shopping_list = [\"滷肉飯\" , \"排骨飯\" , \"三寶飯\" , \"牛肉麵\" , \"臭豆腐\"]\n",
        "print(shopping_list)\n",
        "print(shopping_list[0])\n",
        "shopping_list[1] = \"排骨飯\"\n",
        "print(shopping_list)\n",
        "print(shopping_list[1:3])"
      ],
      "execution_count": 3,
      "outputs": [
        {
          "output_type": "stream",
          "text": [
            "['滷肉飯', '排骨飯', '三寶飯', '牛肉麵', '臭豆腐']\n",
            "滷肉飯\n",
            "['滷肉飯', '排骨飯', '三寶飯', '牛肉麵', '臭豆腐']\n",
            "['排骨飯', '三寶飯']\n"
          ],
          "name": "stdout"
        }
      ]
    }
  ]
}