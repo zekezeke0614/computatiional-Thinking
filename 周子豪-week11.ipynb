{
  "nbformat": 4,
  "nbformat_minor": 0,
  "metadata": {
    "colab": {
      "name": "周子豪-week11.ipynb",
      "provenance": [],
      "authorship_tag": "ABX9TyOvAiQcFMm658UGzMWAimh9",
      "include_colab_link": true
    },
    "kernelspec": {
      "name": "python3",
      "display_name": "Python 3"
    }
  },
  "cells": [
    {
      "cell_type": "markdown",
      "metadata": {
        "id": "view-in-github",
        "colab_type": "text"
      },
      "source": [
        "<a href=\"https://colab.research.google.com/github/zekezeke0614/computatiional-Thinking/blob/master/%E5%91%A8%E5%AD%90%E8%B1%AA-week11.ipynb\" target=\"_parent\"><img src=\"https://colab.research.google.com/assets/colab-badge.svg\" alt=\"Open In Colab\"/></a>"
      ]
    },
    {
      "cell_type": "markdown",
      "metadata": {
        "id": "BiPpH53zaWuf"
      },
      "source": [
        "分組"
      ]
    },
    {
      "cell_type": "code",
      "metadata": {
        "colab": {
          "base_uri": "https://localhost:8080/"
        },
        "id": "i7V7JYuXabgP",
        "outputId": "1c834669-1f0d-48f1-86c6-19f76743a008"
      },
      "source": [
        "# 商數餘數\n",
        "## Input\n",
        "seat = int(input(\"enter a seat number\"))\n",
        "## Process\n",
        "group = (seat-1) // 5 + 1\n",
        "##Output\n",
        "print(\"group is\", group)"
      ],
      "execution_count": 2,
      "outputs": [
        {
          "output_type": "stream",
          "text": [
            "enter a seat number9\n",
            "group is 2\n"
          ],
          "name": "stdout"
        }
      ]
    },
    {
      "cell_type": "code",
      "metadata": {
        "colab": {
          "base_uri": "https://localhost:8080/"
        },
        "id": "AUlSO_sZcz68",
        "outputId": "dd6e7e22-a5fe-4365-ab34-828f47b772bb"
      },
      "source": [
        "# 四捨五入 無條件進位\n",
        "import math\n",
        "## Input\n",
        "seat = int(input(\"enter a seat number\"))\n",
        "\n",
        "## Process\n",
        "group = math.ceil(seat/5)\n",
        "\n",
        "## Output\n",
        "print(\"group is,\" ,group)"
      ],
      "execution_count": 6,
      "outputs": [
        {
          "output_type": "stream",
          "text": [
            "enter a seat number9\n",
            "group is, 2\n"
          ],
          "name": "stdout"
        }
      ]
    },
    {
      "cell_type": "code",
      "metadata": {
        "colab": {
          "base_uri": "https://localhost:8080/"
        },
        "id": "Qw7Wc853eEUu",
        "outputId": "61b209e2-6128-4ff9-8e77-c23ecfceb6aa"
      },
      "source": [
        "number = int(input(\"enter a number\"))\n",
        "if number%5 == 0:\n",
        "  print(\"group is\", number//5)\n",
        "else:\n",
        "  print(\"group is\", number//5 + 1)"
      ],
      "execution_count": 7,
      "outputs": [
        {
          "output_type": "stream",
          "text": [
            "enter a number9\n",
            "group is 2\n"
          ],
          "name": "stdout"
        }
      ]
    },
    {
      "cell_type": "code",
      "metadata": {
        "colab": {
          "base_uri": "https://localhost:8080/"
        },
        "id": "Y9_2oNQmmT8t",
        "outputId": "4f29d607-148e-4510-f1f1-78802e728763"
      },
      "source": [
        "# 聊天機器人自我介紹\n",
        "print(\"哈囉,大家好。我叫Zyxo64,是一個聊天機器人。\")\n",
        "hobby = \"我很喜歡美食東西,也喜歡養動物。今天很高興有機會來到世新大學,請大家多多指教。\"\n",
        "print( hobby )\n",
        "# 打招呼,取得對方名字\n",
        "name = input(\"嗨!妳好,請問大名? :\")\n",
        "print(\"我叫\", name)\n",
        "print(\"你好\", name, \"很高興認識你\")"
      ],
      "execution_count": 26,
      "outputs": [
        {
          "output_type": "stream",
          "text": [
            "哈囉,大家好。我叫Zyxo64,是一個聊天機器人。\n",
            "我很喜歡美食東西,也喜歡養動物。今天很高興有機會來到世新大學,請大家多多指教。\n",
            "嗨!妳好,請問大名? :周子豪\n",
            "我叫 周子豪\n",
            "你好 周子豪 很高興認識你\n"
          ],
          "name": "stdout"
        }
      ]
    },
    {
      "cell_type": "code",
      "metadata": {
        "colab": {
          "base_uri": "https://localhost:8080/"
        },
        "id": "J7XVS5lKoLct",
        "outputId": "7760d2ab-a0cd-4b86-b9b7-af5e44abcff3"
      },
      "source": [
        "# 從使用者取得今年年份\n",
        "year = input(\"請問一下今年是西元2020年,那是民國幾年呢? \")\n",
        "print(\"對!應該沒錯,謝謝妳!\")\n",
        "# 請使用者猜年齡\n",
        "myage = int(input(\"再猜猜看我今年幾歲? \"))\n",
        "print(\"哇!你好聰明,我今年的確\", myage)\n",
        "# 計算聊天機器人滿100歲的年份\n",
        "nyears = 100 - myage\n",
        "print(\"我再\", nyears, \"年就滿100歲了。\")\n",
        "print(\"到時候是西元\", int(year) + nyears + 1911, \"年\") # 將今年年份轉換為整數"
      ],
      "execution_count": 27,
      "outputs": [
        {
          "output_type": "stream",
          "text": [
            "請問一下今年是西元2020年,那是民國幾年呢? 109\n",
            "對!應該沒錯,謝謝妳!\n",
            "再猜猜看我今年幾歲? 18\n",
            "哇!你好聰明,我今年的確 18\n",
            "我再 82 年就滿100歲了。\n",
            "到時候是西元 2102 年\n"
          ],
          "name": "stdout"
        }
      ]
    },
    {
      "cell_type": "code",
      "metadata": {
        "colab": {
          "base_uri": "https://localhost:8080/"
        },
        "id": "p5jCzFJRpVIF",
        "outputId": "8c793262-e002-41e7-ac64-79b7c51e643c"
      },
      "source": [
        "# 食物話題\n",
        "print(\"我喜歡巧克力,也喜歡嘗試各種新食物。\")\n",
        "food = input(\"你呢。你最喜歡的食物是什麼?: \")\n",
        "print(\"我也喜歡\", food)\n",
        "question = \"你多久吃一次\" + food + \"?: \"\n",
        "howoften = input(question)\n",
        "print(\"真有趣。不知道這樣對健康好不好!\")"
      ],
      "execution_count": 28,
      "outputs": [
        {
          "output_type": "stream",
          "text": [
            "我喜歡巧克力,也喜歡嘗試各種新食物。\n",
            "你呢。你最喜歡的食物是什麼?: 麵\n",
            "我也喜歡 麵\n",
            "你多久吃一次麵?: 想到就吃\n",
            "真有趣。不知道這樣對健康好不好!\n"
          ],
          "name": "stdout"
        }
      ]
    }
  ]
}