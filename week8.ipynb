{
  "nbformat": 4,
  "nbformat_minor": 0,
  "metadata": {
    "colab": {
      "name": "Untitled0.ipynb",
      "provenance": [],
      "collapsed_sections": [],
      "authorship_tag": "ABX9TyMXMJ1TD7hBwl1wzmAqIWP5",
      "include_colab_link": true
    },
    "kernelspec": {
      "name": "python3",
      "display_name": "Python 3"
    }
  },
  "cells": [
    {
      "cell_type": "markdown",
      "metadata": {
        "id": "view-in-github",
        "colab_type": "text"
      },
      "source": [
        "<a href=\"https://colab.research.google.com/github/zekezeke0614/computatiional-Thinking/blob/master/week8.ipynb\" target=\"_parent\"><img src=\"https://colab.research.google.com/assets/colab-badge.svg\" alt=\"Open In Colab\"/></a>"
      ]
    },
    {
      "cell_type": "code",
      "metadata": {
        "id": "h6BCTx75dpg9"
      },
      "source": [
        ""
      ],
      "execution_count": null,
      "outputs": []
    },
    {
      "cell_type": "markdown",
      "metadata": {
        "id": "DVCoKC_LfdAl"
      },
      "source": [
        "習題1"
      ]
    },
    {
      "cell_type": "code",
      "metadata": {
        "id": "6u_JZLYyfkmS",
        "outputId": "a181b372-0710-4300-c858-54c6198214f7",
        "colab": {
          "base_uri": "https://localhost:8080/"
        }
      },
      "source": [
        "cloth = int(input('請輸入上衣數量'))\n",
        "thousers = int(input('請輸入褲子數量'))\n",
        "vest = int(input('請輸入背心數量'))\n",
        "\n",
        "total = cloth*100 + thousers*200 + vest*300\n",
        "print('訂購服裝的總金額為' , total)"
      ],
      "execution_count": null,
      "outputs": [
        {
          "output_type": "stream",
          "text": [
            "請輸入上衣數量100\n",
            "請輸入褲子數量200\n",
            "請輸入背心數量300\n",
            "訂購服裝的總金額為 140000\n"
          ],
          "name": "stdout"
        }
      ]
    },
    {
      "cell_type": "markdown",
      "metadata": {
        "id": "fkfSiMUyfXlC"
      },
      "source": [
        "習題2\n"
      ]
    },
    {
      "cell_type": "code",
      "metadata": {
        "id": "ufSbaECPhK67",
        "outputId": "baa1847d-1501-47d5-8306-4c049caa5be6",
        "colab": {
          "base_uri": "https://localhost:8080/"
        }
      },
      "source": [
        "cans = int(input('請輸入購買飲料的總數'))\n",
        "total = (cans//12)*200 + (cans%12)*20\n",
        "print('需花費' , total)"
      ],
      "execution_count": null,
      "outputs": [
        {
          "output_type": "stream",
          "text": [
            "請輸入購買飲料的總數50\n",
            "需花費 840\n"
          ],
          "name": "stdout"
        }
      ]
    },
    {
      "cell_type": "markdown",
      "metadata": {
        "id": "PnKvIOKsiE_i"
      },
      "source": [
        "習題3"
      ]
    },
    {
      "cell_type": "code",
      "metadata": {
        "id": "yO2idV_giGsE",
        "outputId": "d7b6870d-f052-43ef-800e-14ca431d2412",
        "colab": {
          "base_uri": "https://localhost:8080/"
        }
      },
      "source": [
        "fir=int(input('請輸入第一次期中考成績'))\n",
        "sec=int(input('請輸入第二次期中考成績'))\n",
        "final=int(input('請輸入期末考成績'))\n",
        "total=fir+sec+final\n",
        "print('總成績',total)\n",
        "print('平均',total/3)"
      ],
      "execution_count": 2,
      "outputs": [
        {
          "output_type": "stream",
          "text": [
            "請輸入第一次期中考成績2\n",
            "請輸入第二次期中考成績3\n",
            "請輸入期末考成績4\n",
            "總成績 9\n",
            "平均 3.0\n"
          ],
          "name": "stdout"
        }
      ]
    }
  ]
}