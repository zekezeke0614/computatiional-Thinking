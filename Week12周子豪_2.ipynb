{
  "nbformat": 4,
  "nbformat_minor": 0,
  "metadata": {
    "colab": {
      "name": "Week12周子豪-2.ipynb",
      "provenance": [],
      "authorship_tag": "ABX9TyOslttnA5/zMLIbJ+DzsbdU",
      "include_colab_link": true
    },
    "kernelspec": {
      "name": "python3",
      "display_name": "Python 3"
    }
  },
  "cells": [
    {
      "cell_type": "markdown",
      "metadata": {
        "id": "view-in-github",
        "colab_type": "text"
      },
      "source": [
        "<a href=\"https://colab.research.google.com/github/zekezeke0614/computatiional-Thinking/blob/master/Week12%E5%91%A8%E5%AD%90%E8%B1%AA_2.ipynb\" target=\"_parent\"><img src=\"https://colab.research.google.com/assets/colab-badge.svg\" alt=\"Open In Colab\"/></a>"
      ]
    },
    {
      "cell_type": "code",
      "metadata": {
        "colab": {
          "base_uri": "https://localhost:8080/"
        },
        "id": "nGlNd2gpkI9d",
        "outputId": "d2fc4b46-64d5-424f-e91a-4a64b9f68caa"
      },
      "source": [
        "Season = \"2016-2017\"\n",
        "Team = \"Golden State Warriors\"\n",
        "Coach = \"Steve Kerr\"\n",
        "Records = [67 , 15]\n",
        "Starting = [\"Stephen Curry\" , \"Klay Thompson\" , \"Kevin Durant\" , \"Draymond Green\" , \"Zaza Pachulia\"]\n",
        "Champion = True\n",
        "Best_NBA = list((Season , Team , Coach , Records , Starting , Champion))\n",
        "print(Best_NBA)\n",
        "print(type(Best_NBA))\n",
        "print(Best_NBA[-2])\n",
        "print(Best_NBA[0:3])"
      ],
      "execution_count": 4,
      "outputs": [
        {
          "output_type": "stream",
          "text": [
            "['2016-2017', 'Golden State Warriors', 'Steve Kerr', [67, 15], ['Stephen Curry', 'Klay Thompson', 'Kevin Durant', 'Draymond Green', 'Zaza Pachulia'], True]\n",
            "<class 'list'>\n",
            "['Stephen Curry', 'Klay Thompson', 'Kevin Durant', 'Draymond Green', 'Zaza Pachulia']\n",
            "['2016-2017', 'Golden State Warriors', 'Steve Kerr']\n"
          ],
          "name": "stdout"
        }
      ]
    }
  ]
}