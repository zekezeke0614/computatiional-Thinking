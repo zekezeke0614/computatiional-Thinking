{
  "nbformat": 4,
  "nbformat_minor": 0,
  "metadata": {
    "colab": {
      "name": "week10.ipynb",
      "provenance": [],
      "authorship_tag": "ABX9TyOqFQuO5NoIjs0LsHUWV/GA",
      "include_colab_link": true
    },
    "kernelspec": {
      "name": "python3",
      "display_name": "Python 3"
    }
  },
  "cells": [
    {
      "cell_type": "markdown",
      "metadata": {
        "id": "view-in-github",
        "colab_type": "text"
      },
      "source": [
        "<a href=\"https://colab.research.google.com/github/zekezeke0614/computatiional-Thinking/blob/master/week10.ipynb\" target=\"_parent\"><img src=\"https://colab.research.google.com/assets/colab-badge.svg\" alt=\"Open In Colab\"/></a>"
      ]
    },
    {
      "cell_type": "code",
      "metadata": {
        "id": "qhiMj8hqTK4g",
        "colab": {
          "base_uri": "https://localhost:8080/"
        },
        "outputId": "7999089c-9c82-497f-8509-eaf3760c0874"
      },
      "source": [
        "座號 = int(input(\"請輸入座號\"))\n",
        "組別 = ((座號-1)//5)+1\n",
        "\n",
        "print(\"組別\" , 組別)\n"
      ],
      "execution_count": 60,
      "outputs": [
        {
          "output_type": "stream",
          "text": [
            "請輸入座號40\n",
            "組別 8\n"
          ],
          "name": "stdout"
        }
      ]
    }
  ]
}