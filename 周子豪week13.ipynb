{
  "nbformat": 4,
  "nbformat_minor": 0,
  "metadata": {
    "colab": {
      "name": "周子豪week13.ipynb",
      "provenance": [],
      "authorship_tag": "ABX9TyP1SYEvkwH2cIc7tYkuif85",
      "include_colab_link": true
    },
    "kernelspec": {
      "name": "python3",
      "display_name": "Python 3"
    }
  },
  "cells": [
    {
      "cell_type": "markdown",
      "metadata": {
        "id": "view-in-github",
        "colab_type": "text"
      },
      "source": [
        "<a href=\"https://colab.research.google.com/github/zekezeke0614/computatiional-Thinking/blob/master/%E5%91%A8%E5%AD%90%E8%B1%AAweek13.ipynb\" target=\"_parent\"><img src=\"https://colab.research.google.com/assets/colab-badge.svg\" alt=\"Open In Colab\"/></a>"
      ]
    },
    {
      "cell_type": "code",
      "metadata": {
        "colab": {
          "base_uri": "https://localhost:8080/"
        },
        "id": "aKdRAkQgiSyL",
        "outputId": "89791627-ce69-48a2-fb89-5af4557b8bc5"
      },
      "source": [
        "for i in range(0 , 5 , 1):\r\n",
        " print(\"Hello\")"
      ],
      "execution_count": 9,
      "outputs": [
        {
          "output_type": "stream",
          "text": [
            "Hello\n",
            "Hello\n",
            "Hello\n",
            "Hello\n",
            "Hello\n"
          ],
          "name": "stdout"
        }
      ]
    },
    {
      "cell_type": "code",
      "metadata": {
        "colab": {
          "base_uri": "https://localhost:8080/"
        },
        "id": "sb0G70CAlEbP",
        "outputId": "f74458f4-65ff-4202-b44e-a9aa756ca5f3"
      },
      "source": [
        "#[100 , 97 , 94 , 91]\r\n",
        "for i in range(100 , 90 , -3):\r\n",
        "  print(i)"
      ],
      "execution_count": 10,
      "outputs": [
        {
          "output_type": "stream",
          "text": [
            "100\n",
            "97\n",
            "94\n",
            "91\n"
          ],
          "name": "stdout"
        }
      ]
    },
    {
      "cell_type": "code",
      "metadata": {
        "colab": {
          "base_uri": "https://localhost:8080/"
        },
        "id": "ztRPJox5qBkb",
        "outputId": "eae05a0c-7801-4128-b581-5b542326ac40"
      },
      "source": [
        "sum = 0\r\n",
        "for i in range(1 , 11 , 1):\r\n",
        " sum = sum + i\r\n",
        " print(\"Total is\" , sum)"
      ],
      "execution_count": 24,
      "outputs": [
        {
          "output_type": "stream",
          "text": [
            "Total is 1\n",
            "Total is 3\n",
            "Total is 6\n",
            "Total is 10\n",
            "Total is 15\n",
            "Total is 21\n",
            "Total is 28\n",
            "Total is 36\n",
            "Total is 45\n",
            "Total is 55\n"
          ],
          "name": "stdout"
        }
      ]
    },
    {
      "cell_type": "code",
      "metadata": {
        "colab": {
          "base_uri": "https://localhost:8080/"
        },
        "id": "qc4TRAATrCQ7",
        "outputId": "4f4cf318-24b1-4692-a6c4-067f57224e38"
      },
      "source": [
        "# 3+6+9+12 = 30\r\n",
        "sum = 0\r\n",
        "for i in range(3 , 13 , 3):\r\n",
        "  sum = sum + i\r\n",
        "print(\"Total is\" , sum)"
      ],
      "execution_count": 23,
      "outputs": [
        {
          "output_type": "stream",
          "text": [
            "Total is 30\n"
          ],
          "name": "stdout"
        }
      ]
    },
    {
      "cell_type": "code",
      "metadata": {
        "colab": {
          "base_uri": "https://localhost:8080/",
          "height": 131
        },
        "id": "c_rrGKfMugKA",
        "outputId": "cd106c96-17e1-4cd0-e742-3bec66c6fc04"
      },
      "source": [
        "int(input('請輸入加總開始值'))int(input('請輸入加總終止值'))\r\n",
        "Step = int(input('請輸入遞增減值'))\r\n",
        "sum = 0\r\n",
        "for i in range(Start , Stop , Step):\r\n",
        "   sum = sum + i\r\n",
        "   print('i為' , i , '時 , 累加結果為' , sum)\r\n",
        "\r\n"
      ],
      "execution_count": 32,
      "outputs": [
        {
          "output_type": "error",
          "ename": "SyntaxError",
          "evalue": "ignored",
          "traceback": [
            "\u001b[0;36m  File \u001b[0;32m\"<ipython-input-32-cedd914ee9f0>\"\u001b[0;36m, line \u001b[0;32m1\u001b[0m\n\u001b[0;31m    int(input('請輸入加總開始值'))int(input('請輸入加總終止值'))\u001b[0m\n\u001b[0m                            ^\u001b[0m\n\u001b[0;31mSyntaxError\u001b[0m\u001b[0;31m:\u001b[0m invalid syntax\n"
          ]
        }
      ]
    },
    {
      "cell_type": "code",
      "metadata": {
        "colab": {
          "base_uri": "https://localhost:8080/"
        },
        "id": "ZEWNP65KwtPQ",
        "outputId": "fd94c925-b9c4-41db-8002-24318d4e3480"
      },
      "source": [
        "n = int(input(\"請輸入n值 \"))\r\n",
        "sum = 0\r\n",
        "for i in range(1 , n+1):\r\n",
        " sum = sum + i*i\r\n",
        "print(\"平方和\" , sum)"
      ],
      "execution_count": 43,
      "outputs": [
        {
          "output_type": "stream",
          "text": [
            "請輸入n值 5\n",
            "平方和 55\n"
          ],
          "name": "stdout"
        }
      ]
    }
  ]
}